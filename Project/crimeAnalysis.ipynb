{
 "cells": [
  {
   "cell_type": "code",
   "execution_count": 393,
   "metadata": {
    "collapsed": false
   },
   "outputs": [],
   "source": [
    "import pandas as pd\n",
    "import numpy as np\n",
    "import matplotlib.pyplot as plt\n",
    "import re # for extract lat, long\n",
    "import matplotlib.path as mplPath\n",
    "%matplotlib inline"
   ]
  },
  {
   "cell_type": "code",
   "execution_count": 394,
   "metadata": {
    "collapsed": false
   },
   "outputs": [
    {
     "data": {
      "text/html": [
       "<div>\n",
       "<table border=\"1\" class=\"dataframe\">\n",
       "  <thead>\n",
       "    <tr style=\"text-align: right;\">\n",
       "      <th></th>\n",
       "      <th>incident_id</th>\n",
       "      <th>offense_code</th>\n",
       "      <th>offense_group</th>\n",
       "      <th>offense_dis</th>\n",
       "      <th>dist</th>\n",
       "      <th>report_area</th>\n",
       "      <th>shooting</th>\n",
       "      <th>date</th>\n",
       "      <th>hr</th>\n",
       "      <th>yr</th>\n",
       "      <th>mon</th>\n",
       "      <th>day</th>\n",
       "      <th>ucr</th>\n",
       "      <th>street</th>\n",
       "      <th>lat</th>\n",
       "      <th>long</th>\n",
       "      <th>location</th>\n",
       "    </tr>\n",
       "  </thead>\n",
       "  <tbody>\n",
       "    <tr>\n",
       "      <th>0</th>\n",
       "      <td>I162004042</td>\n",
       "      <td>3115</td>\n",
       "      <td>Investigate Person</td>\n",
       "      <td>INVESTIGATE PERSON</td>\n",
       "      <td>D4</td>\n",
       "      <td>128.0</td>\n",
       "      <td>NaN</td>\n",
       "      <td>01/15/2016 12:30:00 PM</td>\n",
       "      <td>12</td>\n",
       "      <td>2016</td>\n",
       "      <td>1</td>\n",
       "      <td>Friday</td>\n",
       "      <td>Part Three</td>\n",
       "      <td>STANHOPE ST</td>\n",
       "      <td>42.348689</td>\n",
       "      <td>-71.072580</td>\n",
       "      <td>(42.34868917, -71.07257992)</td>\n",
       "    </tr>\n",
       "    <tr>\n",
       "      <th>1</th>\n",
       "      <td>I162008304</td>\n",
       "      <td>3502</td>\n",
       "      <td>Missing Person Located</td>\n",
       "      <td>MISSING PERSON - LOCATED</td>\n",
       "      <td>B3</td>\n",
       "      <td>458.0</td>\n",
       "      <td>NaN</td>\n",
       "      <td>01/31/2016 12:36:00 PM</td>\n",
       "      <td>12</td>\n",
       "      <td>2016</td>\n",
       "      <td>1</td>\n",
       "      <td>Sunday</td>\n",
       "      <td>Part Three</td>\n",
       "      <td>ELLINGTON ST</td>\n",
       "      <td>42.301974</td>\n",
       "      <td>-71.083834</td>\n",
       "      <td>(42.3019742, -71.08383388)</td>\n",
       "    </tr>\n",
       "    <tr>\n",
       "      <th>2</th>\n",
       "      <td>I162073291</td>\n",
       "      <td>3201</td>\n",
       "      <td>Property Lost</td>\n",
       "      <td>PROPERTY - LOST</td>\n",
       "      <td>D4</td>\n",
       "      <td>597.0</td>\n",
       "      <td>NaN</td>\n",
       "      <td>09/08/2016 07:16:00 PM</td>\n",
       "      <td>19</td>\n",
       "      <td>2016</td>\n",
       "      <td>9</td>\n",
       "      <td>Thursday</td>\n",
       "      <td>Part Three</td>\n",
       "      <td>COLUMBUS AVE</td>\n",
       "      <td>42.340125</td>\n",
       "      <td>-71.082233</td>\n",
       "      <td>(42.34012548, -71.0822333)</td>\n",
       "    </tr>\n",
       "    <tr>\n",
       "      <th>3</th>\n",
       "      <td>I162013074</td>\n",
       "      <td>2900</td>\n",
       "      <td>Other</td>\n",
       "      <td>VAL - VIOLATION OF AUTO LAW - OTHER</td>\n",
       "      <td>D14</td>\n",
       "      <td>806.0</td>\n",
       "      <td>NaN</td>\n",
       "      <td>02/18/2016 06:00:00 PM</td>\n",
       "      <td>18</td>\n",
       "      <td>2016</td>\n",
       "      <td>2</td>\n",
       "      <td>Thursday</td>\n",
       "      <td>Part Two</td>\n",
       "      <td>TELFORD ST</td>\n",
       "      <td>42.362903</td>\n",
       "      <td>-71.137378</td>\n",
       "      <td>(42.36290257, -71.13737847)</td>\n",
       "    </tr>\n",
       "    <tr>\n",
       "      <th>4</th>\n",
       "      <td>I152066279</td>\n",
       "      <td>301</td>\n",
       "      <td>Robbery</td>\n",
       "      <td>ROBBERY - STREET</td>\n",
       "      <td>C6</td>\n",
       "      <td>214.0</td>\n",
       "      <td>NaN</td>\n",
       "      <td>08/10/2015 11:47:00 PM</td>\n",
       "      <td>23</td>\n",
       "      <td>2015</td>\n",
       "      <td>8</td>\n",
       "      <td>Monday</td>\n",
       "      <td>Part One</td>\n",
       "      <td>NaN</td>\n",
       "      <td>NaN</td>\n",
       "      <td>NaN</td>\n",
       "      <td>(0E-8, 0E-8)</td>\n",
       "    </tr>\n",
       "  </tbody>\n",
       "</table>\n",
       "</div>"
      ],
      "text/plain": [
       "  incident_id  offense_code           offense_group  \\\n",
       "0  I162004042          3115      Investigate Person   \n",
       "1  I162008304          3502  Missing Person Located   \n",
       "2  I162073291          3201           Property Lost   \n",
       "3  I162013074          2900                   Other   \n",
       "4  I152066279           301                 Robbery   \n",
       "\n",
       "                           offense_dis dist  report_area shooting  \\\n",
       "0                   INVESTIGATE PERSON   D4        128.0      NaN   \n",
       "1             MISSING PERSON - LOCATED   B3        458.0      NaN   \n",
       "2                      PROPERTY - LOST   D4        597.0      NaN   \n",
       "3  VAL - VIOLATION OF AUTO LAW - OTHER  D14        806.0      NaN   \n",
       "4                     ROBBERY - STREET   C6        214.0      NaN   \n",
       "\n",
       "                     date  hr    yr  mon       day         ucr        street  \\\n",
       "0  01/15/2016 12:30:00 PM  12  2016    1    Friday  Part Three   STANHOPE ST   \n",
       "1  01/31/2016 12:36:00 PM  12  2016    1    Sunday  Part Three  ELLINGTON ST   \n",
       "2  09/08/2016 07:16:00 PM  19  2016    9  Thursday  Part Three  COLUMBUS AVE   \n",
       "3  02/18/2016 06:00:00 PM  18  2016    2  Thursday    Part Two    TELFORD ST   \n",
       "4  08/10/2015 11:47:00 PM  23  2015    8    Monday    Part One           NaN   \n",
       "\n",
       "         lat       long                     location  \n",
       "0  42.348689 -71.072580  (42.34868917, -71.07257992)  \n",
       "1  42.301974 -71.083834   (42.3019742, -71.08383388)  \n",
       "2  42.340125 -71.082233   (42.34012548, -71.0822333)  \n",
       "3  42.362903 -71.137378  (42.36290257, -71.13737847)  \n",
       "4        NaN        NaN                 (0E-8, 0E-8)  "
      ]
     },
     "execution_count": 394,
     "metadata": {},
     "output_type": "execute_result"
    }
   ],
   "source": [
    "# load in crime\n",
    "c = pd.read_csv('bostonCrime.csv')\n",
    "\n",
    "# change column names for easier use\n",
    "c.columns = ['incident_id', 'offense_code', 'offense_group', 'offense_dis',\n",
    "             'dist', 'report_area', 'shooting', 'date', 'hr', 'yr', 'mon',\n",
    "             'day', 'ucr', 'street', 'lat', 'long', 'location']\n",
    "\n",
    "# take a look\n",
    "c.head()"
   ]
  },
  {
   "cell_type": "code",
   "execution_count": 395,
   "metadata": {
    "collapsed": false
   },
   "outputs": [],
   "source": [
    "# filter out miss values which are strange long, lat values\n",
    "c = c[np.isfinite(c.lat)]\n",
    "\n"
   ]
  },
  {
   "cell_type": "code",
   "execution_count": 396,
   "metadata": {
    "collapsed": false
   },
   "outputs": [
    {
     "data": {
      "text/plain": [
       "(array([ 6867.,  4276.,  3574.,  2131.,  1551.,  1517.,  2249.,  4070.,\n",
       "         6021.,  6915.,  7508.,  7542.,  8722.,  7735.,  7969.,  7518.,\n",
       "         9098.,  9594.,  9419.,  8136.,  7398.,  6392.,  6059.,  4944.]),\n",
       " array([  0.        ,   0.95833333,   1.91666667,   2.875     ,\n",
       "          3.83333333,   4.79166667,   5.75      ,   6.70833333,\n",
       "          7.66666667,   8.625     ,   9.58333333,  10.54166667,\n",
       "         11.5       ,  12.45833333,  13.41666667,  14.375     ,\n",
       "         15.33333333,  16.29166667,  17.25      ,  18.20833333,\n",
       "         19.16666667,  20.125     ,  21.08333333,  22.04166667,  23.        ]),\n",
       " <a list of 24 Patch objects>)"
      ]
     },
     "execution_count": 396,
     "metadata": {},
     "output_type": "execute_result"
    },
    {
     "data": {
      "image/png": "[encoded data removed]",
      "text/plain": [
       "<matplotlib.figure.Figure at 0x172b723d0>"
      ]
     },
     "metadata": {},
     "output_type": "display_data"
    }
   ],
   "source": [
    "# take a look crime time distribution\n",
    "plt.hist(c.hr,24,  facecolor='lightblue')\n"
   ]
  },
  {
   "cell_type": "code",
   "execution_count": 397,
   "metadata": {
    "collapsed": true
   },
   "outputs": [],
   "source": [
    "# can take a look of the time distribution by different crimes"
   ]
  },
  {
   "cell_type": "code",
   "execution_count": 398,
   "metadata": {
    "collapsed": false
   },
   "outputs": [
    {
     "data": {
      "text/plain": [
       "Y    0.309772\n",
       "Name: shooting, dtype: float64"
      ]
     },
     "execution_count": 398,
     "metadata": {},
     "output_type": "execute_result"
    }
   ],
   "source": [
    "# take a look of shooting percentage\n",
    "c.shooting.value_counts() / len(c) * 100"
   ]
  },
  {
   "cell_type": "code",
   "execution_count": 399,
   "metadata": {
    "collapsed": false
   },
   "outputs": [
    {
     "data": {
      "text/plain": [
       "Index([u'the_geom', u'Name', u'Shape_area', u'Shape_len'], dtype='object')"
      ]
     },
     "execution_count": 399,
     "metadata": {},
     "output_type": "execute_result"
    }
   ],
   "source": [
    "# create a zipcode tag to summarize crime data\n",
    "z = pd.read_csv('isd_neighborhood_districts.csv')\n",
    "z.columns"
   ]
  },
  {
   "cell_type": "code",
   "execution_count": 400,
   "metadata": {
    "collapsed": false
   },
   "outputs": [],
   "source": [
    "# create boston boundary dictionary\n",
    "bostonBoundary = {}\n",
    "for i in xrange(len(z)):\n",
    "    name = z.Name[i]\n",
    "    county = re.findall(r'\\((.*?)\\)', z.the_geom[i]) # get towns' polygon\n",
    "    j = 0\n",
    "    for town in county:\n",
    "        res = re.findall(r'(-\\d{2}\\.\\d+)\\s(\\d{2}\\.\\d+)', town) # get polygon's lat and long\n",
    "        res = [(float(lon), float(lat)) for lon, lat in res]\n",
    "        bostonBoundary[name + ' ' + str(j)] = res\n",
    "        j += 1\n"
   ]
  },
  {
   "cell_type": "code",
   "execution_count": 401,
   "metadata": {
    "collapsed": false
   },
   "outputs": [],
   "source": [
    "# to see each crime belongs to which boston area\n",
    "lat_long = zip(c.long, c.lat)\n",
    "c2 = pd.DataFrame()\n",
    "c['region'] = 'NA'\n",
    "for i in bostonBoundary.keys():\n",
    "    check = mplPath.Path(np.array(bostonBoundary[i]))\n",
    "    res = check.contains_points(lat_long)\n",
    "    tmp = c[res]\n",
    "    tmp.region = i[:-2]\n",
    "    c2 = c2.append(tmp, ignore_index=True)"
   ]
  },
  {
   "cell_type": "code",
   "execution_count": 402,
   "metadata": {
    "collapsed": false
   },
   "outputs": [],
   "source": [
    "# switch \n",
    "c, c2 = c2, c"
   ]
  },
  {
   "cell_type": "code",
   "execution_count": 403,
   "metadata": {
    "collapsed": false
   },
   "outputs": [],
   "source": [
    "c.detail = c.groupby(['region', 'offense_group']).size()\n",
    "c.detail = c.detail.unstack().fillna(0)\n",
    "c.detail['total'] = c.detail.sum(axis=1)\n",
    "c.detail['percentage'] = c.detail.total / c.detail.total.sum() * 100\n"
   ]
  },
  {
   "cell_type": "code",
   "execution_count": 404,
   "metadata": {
    "collapsed": false
   },
   "outputs": [],
   "source": [
    "# export as csv\n",
    "c.detail.to_csv('crimeByRegion.csv')"
   ]
  },
  {
   "cell_type": "code",
   "execution_count": 412,
   "metadata": {
    "collapsed": false
   },
   "outputs": [],
   "source": [
    "# import csv\n",
    "# with open('bostonBoundary-2.csv', 'wb') as csv_file:\n",
    "#     writer = csv.writer(csv_file)\n",
    "#     writer.writerow(['Region','long','lat'])\n",
    "#     for i in xrange(len(z)):\n",
    "#         name = z.Name[i]\n",
    "#         res = re.findall(r'(-\\d{2}\\.\\d+)\\s(\\d{2}\\.\\d+)', z.the_geom[i]) # get towns' polygon\n",
    "#         for lon, lat in res:\n",
    "#             writer.writerow([name, lon, lat])\n",
    "\n",
    "\n"
   ]
  },
  {
   "cell_type": "code",
   "execution_count": 415,
   "metadata": {
    "collapsed": false
   },
   "outputs": [],
   "source": [
    "# to export boston boundary\n",
    "import csv\n",
    "with open('bostonBoundary.csv', 'wb') as csv_file:\n",
    "    writer = csv.writer(csv_file)\n",
    "    writer.writerow(['Region', 'path_id','long','lat'])\n",
    "    for key, value in bostonBoundary.items():\n",
    "        path = 0\n",
    "        for i in value:\n",
    "            writer.writerow([key[:-2], path, i[0], i[1]])\n",
    "            path += 1"
   ]
  },
  {
   "cell_type": "code",
   "execution_count": null,
   "metadata": {
    "collapsed": true
   },
   "outputs": [],
   "source": [
    "# http://gis.stackexchange.com/questions/36877/how-do-i-change-the-polygon-fill-color-and-border-color-for-spatialpolygons-obje\n",
    "# use R to plot polygon\n"
   ]
  },
  {
   "cell_type": "code",
   "execution_count": 436,
   "metadata": {
    "collapsed": false
   },
   "outputs": [
    {
     "data": {
      "text/plain": [
       "[]"
      ]
     },
     "execution_count": 436,
     "metadata": {},
     "output_type": "execute_result"
    },
    {
     "data": {
      "image/png": "[encoded data removed]",
      "text/plain": [
       "<matplotlib.figure.Figure at 0x172f2abd0>"
      ]
     },
     "metadata": {},
     "output_type": "display_data"
    }
   ],
   "source": [
    "\n",
    "import matplotlib.pyplot as plt\n",
    "import matplotlib\n",
    "from matplotlib.patches import Polygon\n",
    "from matplotlib.collections import PatchCollection\n",
    "\n",
    "# fig, ax = plt.subplots()\n",
    "patches = []\n",
    "\n",
    "for i in bostonBoundary:\n",
    "    polygon = Polygon(np.array(bostonBoundary[i]), True)\n",
    "    patches.append(polygon)\n",
    "\n",
    "p = PatchCollection(patches, cmap=matplotlib.cm.jet, alpha=0.4)\n",
    "\n",
    "colors = 100*np.random.rand(len(patches))\n",
    "p.set_array(np.array(colors))\n",
    "\n",
    "# ax.add_collection(p)\n",
    "plt.plot()\n"
   ]
  },
  {
   "cell_type": "code",
   "execution_count": 422,
   "metadata": {
    "collapsed": false
   },
   "outputs": [
    {
     "data": {
      "image/png": "[encoded data removed]",
      "text/plain": [
       "<matplotlib.figure.Figure at 0x16140e750>"
      ]
     },
     "metadata": {},
     "output_type": "display_data"
    }
   ],
   "source": [
    "import numpy as np\n",
    "import matplotlib.pyplot as plt\n",
    "import matplotlib\n",
    "from matplotlib.patches import Polygon\n",
    "from matplotlib.collections import PatchCollection\n",
    "\n",
    "fig, ax = plt.subplots()\n",
    "patches = []\n",
    "N = 5\n",
    "\n",
    "for i in range(N):\n",
    "    polygon = Polygon(np.random.rand(N,2), True)\n",
    "    patches.append(polygon)\n",
    "\n",
    "p = PatchCollection(patches, cmap=matplotlib.cm.jet, alpha=0.4)\n",
    "\n",
    "colors = 100*np.random.rand(len(patches))\n",
    "p.set_array(np.array(colors))\n",
    "\n",
    "ax.add_collection(p)\n",
    "\n",
    "plt.show()"
   ]
  },
  {
   "cell_type": "code",
   "execution_count": 442,
   "metadata": {
    "collapsed": false
   },
   "outputs": [
    {
     "data": {
      "text/plain": [
       "<matplotlib.patches.Polygon at 0x1613f6450>"
      ]
     },
     "execution_count": 442,
     "metadata": {},
     "output_type": "execute_result"
    }
   ],
   "source": [
    "# http://stackoverflow.com/questions/26935701/ploting-filled-polygons-in-python"
   ]
  }
 ],
 "metadata": {
  "anaconda-cloud": {},
  "kernelspec": {
   "display_name": "Python [conda env:py2]",
   "language": "python",
   "name": "conda-env-py2-py"
  },
  "language_info": {
   "codemirror_mode": {
    "name": "ipython",
    "version": 2
   },
   "file_extension": ".py",
   "mimetype": "text/x-python",
   "name": "python",
   "nbconvert_exporter": "python",
   "pygments_lexer": "ipython2",
   "version": "2.7.12"
  }
 },
 "nbformat": 4,
 "nbformat_minor": 1
}
